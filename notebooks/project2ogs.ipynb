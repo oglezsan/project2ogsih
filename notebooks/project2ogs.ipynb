{
 "cells": [
  {
   "cell_type": "code",
   "execution_count": 1,
   "id": "7ebfbcf2-d014-415d-9283-9b837bd8532b",
   "metadata": {},
   "outputs": [],
   "source": [
    "import pandas as pd\n",
    "import numpy as np\n",
    "import matplotlib as plt\n",
    "import matplotlib.pyplot as plt\n",
    "import seaborn as sns"
   ]
  },
  {
   "cell_type": "code",
   "execution_count": 2,
   "id": "3a3da65c-3be7-4400-86e4-f2bab419cce1",
   "metadata": {},
   "outputs": [],
   "source": [
    "df1 = pd.read_csv(\"/Users/oscargonzalezsanchez/Documents/ironhack/projects/datasets/2/df_final.csv\")\n",
    "df2 = pd.read_csv(\"/Users/oscargonzalezsanchez/Documents/ironhack/projects/datasets/2/exp.csv\")\n",
    "df3_1 = pd.read_csv(\"/Users/oscargonzalezsanchez/Documents/ironhack/projects/datasets/2/data_1.csv\")\n",
    "df3_2 = pd.read_csv(\"/Users/oscargonzalezsanchez/Documents/ironhack/projects/datasets/2/data_2.csv\")"
   ]
  },
  {
   "cell_type": "code",
   "execution_count": 3,
   "id": "d9590119-a142-4828-8d6a-d7b6c8fd6644",
   "metadata": {},
   "outputs": [],
   "source": [
    "df3 = pd.concat([df3_1,df3_2])"
   ]
  },
  {
   "cell_type": "code",
   "execution_count": 4,
   "id": "c8025b2b-2af3-4363-9f90-e601b8a59be1",
   "metadata": {},
   "outputs": [
    {
     "data": {
      "text/html": [
       "<div>\n",
       "<style scoped>\n",
       "    .dataframe tbody tr th:only-of-type {\n",
       "        vertical-align: middle;\n",
       "    }\n",
       "\n",
       "    .dataframe tbody tr th {\n",
       "        vertical-align: top;\n",
       "    }\n",
       "\n",
       "    .dataframe thead th {\n",
       "        text-align: right;\n",
       "    }\n",
       "</style>\n",
       "<table border=\"1\" class=\"dataframe\">\n",
       "  <thead>\n",
       "    <tr style=\"text-align: right;\">\n",
       "      <th></th>\n",
       "      <th>client_id</th>\n",
       "      <th>Variation</th>\n",
       "    </tr>\n",
       "  </thead>\n",
       "  <tbody>\n",
       "    <tr>\n",
       "      <th>0</th>\n",
       "      <td>9988021</td>\n",
       "      <td>Test</td>\n",
       "    </tr>\n",
       "    <tr>\n",
       "      <th>1</th>\n",
       "      <td>8320017</td>\n",
       "      <td>Test</td>\n",
       "    </tr>\n",
       "    <tr>\n",
       "      <th>2</th>\n",
       "      <td>4033851</td>\n",
       "      <td>Control</td>\n",
       "    </tr>\n",
       "    <tr>\n",
       "      <th>3</th>\n",
       "      <td>1982004</td>\n",
       "      <td>Test</td>\n",
       "    </tr>\n",
       "    <tr>\n",
       "      <th>4</th>\n",
       "      <td>9294070</td>\n",
       "      <td>Control</td>\n",
       "    </tr>\n",
       "  </tbody>\n",
       "</table>\n",
       "</div>"
      ],
      "text/plain": [
       "   client_id Variation\n",
       "0    9988021      Test\n",
       "1    8320017      Test\n",
       "2    4033851   Control\n",
       "3    1982004      Test\n",
       "4    9294070   Control"
      ]
     },
     "execution_count": 4,
     "metadata": {},
     "output_type": "execute_result"
    }
   ],
   "source": [
    "df2.head()"
   ]
  },
  {
   "cell_type": "code",
   "execution_count": 5,
   "id": "eff180d6-b875-492c-a8cb-e2bed14aa8b8",
   "metadata": {},
   "outputs": [
    {
     "data": {
      "text/html": [
       "<div>\n",
       "<style scoped>\n",
       "    .dataframe tbody tr th:only-of-type {\n",
       "        vertical-align: middle;\n",
       "    }\n",
       "\n",
       "    .dataframe tbody tr th {\n",
       "        vertical-align: top;\n",
       "    }\n",
       "\n",
       "    .dataframe thead th {\n",
       "        text-align: right;\n",
       "    }\n",
       "</style>\n",
       "<table border=\"1\" class=\"dataframe\">\n",
       "  <thead>\n",
       "    <tr style=\"text-align: right;\">\n",
       "      <th></th>\n",
       "      <th>client_id</th>\n",
       "      <th>visitor_id</th>\n",
       "      <th>visit_id</th>\n",
       "      <th>process_step</th>\n",
       "      <th>date_time</th>\n",
       "    </tr>\n",
       "  </thead>\n",
       "  <tbody>\n",
       "    <tr>\n",
       "      <th>0</th>\n",
       "      <td>9988021</td>\n",
       "      <td>580560515_7732621733</td>\n",
       "      <td>781255054_21935453173_531117</td>\n",
       "      <td>step_3</td>\n",
       "      <td>2017-04-17 15:27:07</td>\n",
       "    </tr>\n",
       "    <tr>\n",
       "      <th>1</th>\n",
       "      <td>9988021</td>\n",
       "      <td>580560515_7732621733</td>\n",
       "      <td>781255054_21935453173_531117</td>\n",
       "      <td>step_2</td>\n",
       "      <td>2017-04-17 15:26:51</td>\n",
       "    </tr>\n",
       "    <tr>\n",
       "      <th>2</th>\n",
       "      <td>9988021</td>\n",
       "      <td>580560515_7732621733</td>\n",
       "      <td>781255054_21935453173_531117</td>\n",
       "      <td>step_3</td>\n",
       "      <td>2017-04-17 15:19:22</td>\n",
       "    </tr>\n",
       "    <tr>\n",
       "      <th>3</th>\n",
       "      <td>9988021</td>\n",
       "      <td>580560515_7732621733</td>\n",
       "      <td>781255054_21935453173_531117</td>\n",
       "      <td>step_2</td>\n",
       "      <td>2017-04-17 15:19:13</td>\n",
       "    </tr>\n",
       "    <tr>\n",
       "      <th>4</th>\n",
       "      <td>9988021</td>\n",
       "      <td>580560515_7732621733</td>\n",
       "      <td>781255054_21935453173_531117</td>\n",
       "      <td>step_3</td>\n",
       "      <td>2017-04-17 15:18:04</td>\n",
       "    </tr>\n",
       "  </tbody>\n",
       "</table>\n",
       "</div>"
      ],
      "text/plain": [
       "   client_id            visitor_id                      visit_id process_step  \\\n",
       "0    9988021  580560515_7732621733  781255054_21935453173_531117       step_3   \n",
       "1    9988021  580560515_7732621733  781255054_21935453173_531117       step_2   \n",
       "2    9988021  580560515_7732621733  781255054_21935453173_531117       step_3   \n",
       "3    9988021  580560515_7732621733  781255054_21935453173_531117       step_2   \n",
       "4    9988021  580560515_7732621733  781255054_21935453173_531117       step_3   \n",
       "\n",
       "             date_time  \n",
       "0  2017-04-17 15:27:07  \n",
       "1  2017-04-17 15:26:51  \n",
       "2  2017-04-17 15:19:22  \n",
       "3  2017-04-17 15:19:13  \n",
       "4  2017-04-17 15:18:04  "
      ]
     },
     "execution_count": 5,
     "metadata": {},
     "output_type": "execute_result"
    }
   ],
   "source": [
    "df3.head()"
   ]
  },
  {
   "cell_type": "code",
   "execution_count": 6,
   "id": "927d7df0-199e-4938-85dd-d06a74f3f77a",
   "metadata": {},
   "outputs": [
    {
     "name": "stdout",
     "output_type": "stream",
     "text": [
      "   client_id  clnt_tenure_yr  clnt_tenure_mnth  clnt_age gendr  num_accts  \\\n",
      "0     836976             6.0              73.0      60.5     U        2.0   \n",
      "1     836976             6.0              73.0      60.5     U        2.0   \n",
      "2     836976             6.0              73.0      60.5     U        2.0   \n",
      "3     836976             6.0              73.0      60.5     U        2.0   \n",
      "4     836976             6.0              73.0      60.5     U        2.0   \n",
      "\n",
      "       bal  calls_6_mnth  logons_6_mnth Variation            visitor_id  \\\n",
      "0  45105.3           6.0            9.0      Test  427070339_1413275162   \n",
      "1  45105.3           6.0            9.0      Test  427070339_1413275162   \n",
      "2  45105.3           6.0            9.0      Test  427070339_1413275162   \n",
      "3  45105.3           6.0            9.0      Test  427070339_1413275162   \n",
      "4  45105.3           6.0            9.0      Test  427070339_1413275162   \n",
      "\n",
      "                      visit_id process_step            date_time  \n",
      "0  228976764_46825473280_96584      confirm  2017-04-02 11:51:13  \n",
      "1  228976764_46825473280_96584      confirm  2017-04-02 11:47:50  \n",
      "2  228976764_46825473280_96584      confirm  2017-04-02 11:46:45  \n",
      "3  228976764_46825473280_96584       step_3  2017-04-02 11:23:08  \n",
      "4  228976764_46825473280_96584       step_2  2017-04-02 11:22:24  \n"
     ]
    },
    {
     "data": {
      "text/plain": [
       "Index(['client_id', 'clnt_tenure_yr', 'clnt_tenure_mnth', 'clnt_age', 'gendr',\n",
       "       'num_accts', 'bal', 'calls_6_mnth', 'logons_6_mnth', 'Variation',\n",
       "       'visitor_id', 'visit_id', 'process_step', 'date_time'],\n",
       "      dtype='object')"
      ]
     },
     "execution_count": 6,
     "metadata": {},
     "output_type": "execute_result"
    }
   ],
   "source": [
    "# Merging df1 and df2 on client_id\n",
    "merged_df1_df2 = pd.merge(df1, df2, on='client_id', how='left')\n",
    "\n",
    "# Merging the result with df3 on client_id\n",
    "final_merged_df = pd.merge(merged_df1_df2, df3, on='client_id', how='left')\n",
    "\n",
    "# Display the merged dataframe\n",
    "print(final_merged_df.head())\n",
    "\n",
    "#Columns\n",
    "final_merged_df.columns"
   ]
  },
  {
   "cell_type": "code",
   "execution_count": 7,
   "id": "a0316ba5-1e6f-4184-b988-b12f265cb732",
   "metadata": {},
   "outputs": [
    {
     "name": "stdout",
     "output_type": "stream",
     "text": [
      "Number of duplicate rows: 5934\n",
      "Number of unique clients: 70609\n"
     ]
    }
   ],
   "source": [
    "# Check for duplicate rows based on all columns\n",
    "duplicates = final_merged_df.duplicated()\n",
    "print(f\"Number of duplicate rows: {duplicates.sum()}\")\n",
    "\n",
    "# Check for unique client_ids\n",
    "unique_clients = final_merged_df['client_id'].nunique()\n",
    "print(f\"Number of unique clients: {unique_clients}\")"
   ]
  },
  {
   "cell_type": "code",
   "execution_count": 8,
   "id": "6011fff7-9c7b-4a1d-ad06-3181c3603c17",
   "metadata": {},
   "outputs": [
    {
     "name": "stdout",
     "output_type": "stream",
     "text": [
      "     client_id  clnt_tenure_yr  clnt_tenure_mnth  clnt_age gendr  num_accts  \\\n",
      "83     2368987             5.0              71.0      54.5     U        2.0   \n",
      "273    3065089            19.0             228.0      63.0     M        2.0   \n",
      "428    8387066            27.0             329.0      66.0     M        2.0   \n",
      "709    7702214             6.0              73.0      32.0     U        2.0   \n",
      "740    2069824            13.0             167.0      50.5     F        2.0   \n",
      "\n",
      "           bal  calls_6_mnth  logons_6_mnth Variation             visitor_id  \\\n",
      "83    44408.87           2.0            5.0   Control  962563905_26346206655   \n",
      "273  439723.43           6.0            9.0      Test  221088883_85206349356   \n",
      "428  406190.96           6.0            9.0      Test   25210118_96518388064   \n",
      "709   43988.28           6.0            9.0   Control   67837555_99283824321   \n",
      "740   52157.46           6.0            9.0   Control  361919188_71063903538   \n",
      "\n",
      "                         visit_id process_step            date_time  \n",
      "83    74943847_65263351338_758798       step_3  2017-04-09 22:00:39  \n",
      "273   94363992_50265918535_940274        start  2017-05-09 17:57:41  \n",
      "428  136590192_70025227803_624445      confirm  2017-06-15 10:36:26  \n",
      "709  312031691_57415625558_721815        start  2017-05-01 09:51:08  \n",
      "740  172343328_25561924093_873714      confirm  2017-04-14 12:24:15  \n",
      "     client_id  clnt_tenure_yr  clnt_tenure_mnth  clnt_age gendr  num_accts  \\\n",
      "83     2368987             5.0              71.0      54.5     U        2.0   \n",
      "273    3065089            19.0             228.0      63.0     M        2.0   \n",
      "428    8387066            27.0             329.0      66.0     M        2.0   \n",
      "709    7702214             6.0              73.0      32.0     U        2.0   \n",
      "740    2069824            13.0             167.0      50.5     F        2.0   \n",
      "\n",
      "           bal  calls_6_mnth  logons_6_mnth Variation             visitor_id  \\\n",
      "83    44408.87           2.0            5.0   Control  962563905_26346206655   \n",
      "273  439723.43           6.0            9.0      Test  221088883_85206349356   \n",
      "428  406190.96           6.0            9.0      Test   25210118_96518388064   \n",
      "709   43988.28           6.0            9.0   Control   67837555_99283824321   \n",
      "740   52157.46           6.0            9.0   Control  361919188_71063903538   \n",
      "\n",
      "                         visit_id process_step            date_time  \n",
      "83    74943847_65263351338_758798       step_3  2017-04-09 22:00:39  \n",
      "273   94363992_50265918535_940274        start  2017-05-09 17:57:41  \n",
      "428  136590192_70025227803_624445      confirm  2017-06-15 10:36:26  \n",
      "709  312031691_57415625558_721815        start  2017-05-01 09:51:08  \n",
      "740  172343328_25561924093_873714      confirm  2017-04-14 12:24:15  \n"
     ]
    }
   ],
   "source": [
    "# Check for exact duplicates based on all columns\n",
    "exact_duplicates = final_merged_df[final_merged_df.duplicated()]\n",
    "\n",
    "# Display some exact duplicates to understand the issue\n",
    "print(exact_duplicates.head())\n",
    "\n",
    "# Check for partial duplicates based on client_id and key columns\n",
    "partial_duplicates = final_merged_df[final_merged_df.duplicated(subset=['client_id', 'visitor_id', 'visit_id', 'process_step', 'date_time'])]\n",
    "\n",
    "# Display some partial duplicates\n",
    "print(partial_duplicates.head())"
   ]
  },
  {
   "cell_type": "code",
   "execution_count": 9,
   "id": "c768d57c-279c-4165-b80d-ab51c476e5d8",
   "metadata": {},
   "outputs": [
    {
     "name": "stdout",
     "output_type": "stream",
     "text": [
      "Number of rows after removing exact duplicates: 443897\n"
     ]
    }
   ],
   "source": [
    "# Drop exact duplicates\n",
    "final_merged_df = final_merged_df.drop_duplicates()\n",
    "\n",
    "# Confirm the removal\n",
    "print(f\"Number of rows after removing exact duplicates: {final_merged_df.shape[0]}\")\n"
   ]
  },
  {
   "cell_type": "code",
   "execution_count": 10,
   "id": "5493a7c0-f9e7-4169-b218-658a8abcb507",
   "metadata": {},
   "outputs": [
    {
     "name": "stdout",
     "output_type": "stream",
     "text": [
      "Number of rows after removing partial duplicates: 443897\n"
     ]
    }
   ],
   "source": [
    "# Remove duplicates keeping the first occurrence\n",
    "final_merged_df = final_merged_df.drop_duplicates(subset=['client_id', 'visitor_id', 'visit_id', 'process_step', 'date_time'])\n",
    "\n",
    "# Confirm the removal\n",
    "print(f\"Number of rows after removing partial duplicates: {final_merged_df.shape[0]}\")\n"
   ]
  },
  {
   "cell_type": "code",
   "execution_count": 12,
   "id": "a92c4a71-e4b9-42a5-86a8-492e8fa7d28f",
   "metadata": {},
   "outputs": [],
   "source": [
    "file_path = '/Users/oscargonzalezsanchez/Documents/ironhack/projects/datasets/final_merged_df.csv'\n",
    "final_merged_df.to_csv(file_path, index=False)"
   ]
  },
  {
   "cell_type": "code",
   "execution_count": null,
   "id": "21696463-1d2e-4564-9dc1-7084cfc429f1",
   "metadata": {},
   "outputs": [],
   "source": [
    "# Check the number of unique clients after cleaning\n",
    "unique_clients_after_cleaning = final_merged_df['client_id'].nunique()\n",
    "print(f\"Number of unique clients after cleaning: {unique_clients_after_cleaning}\")\n",
    "#Looks good, same unique clients"
   ]
  },
  {
   "cell_type": "code",
   "execution_count": null,
   "id": "909f852e-bb43-4ee3-b8b8-25c74c14d124",
   "metadata": {},
   "outputs": [],
   "source": [
    "# Group by Variation and summarize\n",
    "variation_summary = final_merged_df.groupby('Variation').agg({\n",
    "    'client_id': 'nunique',  # count of unique clients\n",
    "    'clnt_tenure_yr': 'mean',\n",
    "    'clnt_age': 'mean',\n",
    "    'bal': 'mean',\n",
    "    'calls_6_mnth': 'mean',\n",
    "    'logons_6_mnth': 'mean'\n",
    "}).reset_index()\n",
    "\n",
    "print(variation_summary)"
   ]
  },
  {
   "cell_type": "code",
   "execution_count": null,
   "id": "e251ea73-8980-4d03-8441-f1ed615fbdb6",
   "metadata": {},
   "outputs": [],
   "source": [
    "# Count the occurrences of each process step\n",
    "process_step_counts = final_merged_df['process_step'].value_counts().reset_index()\n",
    "process_step_counts.columns = ['process_step', 'count']\n",
    "\n",
    "print(process_step_counts)"
   ]
  },
  {
   "cell_type": "code",
   "execution_count": null,
   "id": "203e224b-af9f-4cae-88c5-81746c007809",
   "metadata": {},
   "outputs": [],
   "source": [
    "# Convert date_time to datetime type\n",
    "final_merged_df['date_time'] = pd.to_datetime(final_merged_df['date_time'])\n",
    "\n",
    "# Sort by client_id and date_time\n",
    "final_merged_df.sort_values(by=['client_id', 'date_time'], inplace=True)\n",
    "\n",
    "# Calculate the time difference between steps for each client\n",
    "final_merged_df['time_diff'] = final_merged_df.groupby('client_id')['date_time'].diff()\n",
    "\n",
    "# Display the time differences\n",
    "print(final_merged_df[['client_id', 'process_step', 'date_time', 'time_diff']].head())\n"
   ]
  },
  {
   "cell_type": "code",
   "execution_count": null,
   "id": "a51381ae-afe4-49d4-88ff-5aed566525c8",
   "metadata": {},
   "outputs": [],
   "source": [
    "# Frequency Analysis: Count the number of process steps completed by each client\n",
    "client_process_steps = final_merged_df.groupby('client_id')['process_step'].count().reset_index()\n",
    "client_process_steps.columns = ['client_id', 'process_steps_count']\n",
    "\n",
    "# Client Segmentation: Identify primary clients with the highest number of process steps completed\n",
    "primary_clients = client_process_steps.sort_values(by='process_steps_count', ascending=False).head(10)\n",
    "\n",
    "# Merge primary clients with original data to analyze their characteristics\n",
    "primary_clients_data = pd.merge(primary_clients, final_merged_df, on='client_id', how='left')\n",
    "\n",
    "# Age Distribution of Primary Clients\n",
    "plt.figure(figsize=(10, 6))\n",
    "sns.histplot(data=primary_clients_data, x='clnt_age', bins=10)\n",
    "plt.title('Age Distribution of Primary Clients')\n",
    "plt.xlabel('Age')\n",
    "plt.ylabel('Count')\n",
    "plt.show()\n",
    "\n",
    "# Tenure Analysis of Primary Clients\n",
    "plt.figure(figsize=(10, 6))\n",
    "sns.histplot(data=primary_clients_data, x='clnt_tenure_yr', bins=10)\n",
    "plt.title('Tenure Distribution of Primary Clients')\n",
    "plt.xlabel('Tenure (years)')\n",
    "plt.ylabel('Count')\n",
    "plt.show()"
   ]
  },
  {
   "cell_type": "code",
   "execution_count": null,
   "id": "09709d68-03b3-49bd-82b5-1dc158f91b43",
   "metadata": {},
   "outputs": [],
   "source": [
    "#Age dipersion to create"
   ]
  }
 ],
 "metadata": {
  "kernelspec": {
   "display_name": "venv2",
   "language": "python",
   "name": "venv2"
  },
  "language_info": {
   "codemirror_mode": {
    "name": "ipython",
    "version": 3
   },
   "file_extension": ".py",
   "mimetype": "text/x-python",
   "name": "python",
   "nbconvert_exporter": "python",
   "pygments_lexer": "ipython3",
   "version": "3.11.7"
  }
 },
 "nbformat": 4,
 "nbformat_minor": 5
}
