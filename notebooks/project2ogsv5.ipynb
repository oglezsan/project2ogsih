{
 "cells": [
  {
   "cell_type": "code",
   "execution_count": 1,
   "id": "13363605-f178-4436-9c6e-f844be174681",
   "metadata": {},
   "outputs": [],
   "source": [
    "# Loading libraries set \n",
    "import pandas as pd\n",
    "import numpy as np\n",
    "import matplotlib as plt\n",
    "import matplotlib.pyplot as plt\n",
    "import seaborn as sns\n",
    "from scipy import stats"
   ]
  },
  {
   "cell_type": "code",
   "execution_count": 2,
   "id": "6acee7b6-ef2a-4257-848d-f41d9f0a8488",
   "metadata": {},
   "outputs": [],
   "source": [
    "# Loading datasets\n",
    "df_final = pd.read_csv(\"/Users/oscargonzalezsanchez/Documents/ironhack/projects/datasets/2/df_final.csv\")\n",
    "exp = pd.read_csv(\"/Users/oscargonzalezsanchez/Documents/ironhack/projects/datasets/2/exp.csv\")\n",
    "data_1 = pd.read_csv(\"/Users/oscargonzalezsanchez/Documents/ironhack/projects/datasets/2/data_1.csv\")\n",
    "data_2 = pd.read_csv(\"/Users/oscargonzalezsanchez/Documents/ironhack/projects/datasets/2/data_2.csv\")"
   ]
  },
  {
   "cell_type": "code",
   "execution_count": 3,
   "id": "d7491d27-a928-4770-96b1-dbc064b98604",
   "metadata": {},
   "outputs": [],
   "source": [
    "# Rename the 'Variation' column to 'variation_group'\n",
    "exp.rename(columns={'Variation': 'variation_group'}, inplace=True)\n",
    "\n",
    "# Merge data_1 and data_2\n",
    "df_web_data = pd.concat([data_1, data_2], ignore_index=True)\n",
    "\n",
    "# Merge df_web_data with experiment data to get the group information\n",
    "df_merged = pd.merge(df_web_data, exp, on='client_id', how='left')\n",
    "\n",
    "# Convert date_time to datetime\n",
    "df_merged['date_time'] = pd.to_datetime(df_merged['date_time'])\n",
    "\n",
    "# Sort data by client_id and date_time\n",
    "df_merged.sort_values(by=['client_id', 'date_time'], inplace=True)\n",
    "\n",
    "# Calculate time differences between steps for each client\n",
    "df_merged['next_process_step'] = df_merged.groupby('client_id')['process_step'].shift(-1)\n",
    "df_merged['next_date_time'] = df_merged.groupby('client_id')['date_time'].shift(-1)\n",
    "df_merged['step_time_diff'] = df_merged['next_date_time'] - df_merged['date_time']\n",
    "\n",
    "# Filter out rows where the next_process_step is not in the sequence\n",
    "valid_steps = ['step_1', 'step_2', 'step_3', 'confirm']\n",
    "df_merged = df_merged[df_merged['process_step'].isin(valid_steps) & df_merged['next_process_step'].isin(valid_steps)]\n",
    "\n",
    "# Map the process steps to ensure the correct order\n",
    "step_order = {'step_1': 1, 'step_2': 2, 'step_3': 3, 'confirm': 4}\n",
    "df_merged['process_step_order'] = df_merged['process_step'].map(step_order)\n",
    "df_merged['next_process_step_order'] = df_merged['next_process_step'].map(step_order)\n",
    "\n",
    "# Filter to ensure only consecutive steps are considered\n",
    "df_merged = df_merged[df_merged['next_process_step_order'] == df_merged['process_step_order'] + 1]\n",
    "\n",
    "# Calculate average time differences between each step for control and test groups\n",
    "avg_time_diff_per_step = df_merged.groupby(['variation_group', 'process_step'])['step_time_diff'].mean().reset_index()\n",
    "\n",
    "# Convert time differences to seconds\n",
    "avg_time_diff_per_step['avg_time_diff_to_next_step'] = avg_time_diff_per_step['step_time_diff'].dt.total_seconds()\n",
    "\n",
    "# Drop the original step_time_diff column\n",
    "avg_time_diff_per_step = avg_time_diff_per_step.drop(columns=['step_time_diff'])"
   ]
  },
  {
   "cell_type": "code",
   "execution_count": 4,
   "id": "f8ff2ff5-9bca-409a-9c07-168da0423ef6",
   "metadata": {},
   "outputs": [
    {
     "data": {
      "text/html": [
       "<div>\n",
       "<style scoped>\n",
       "    .dataframe tbody tr th:only-of-type {\n",
       "        vertical-align: middle;\n",
       "    }\n",
       "\n",
       "    .dataframe tbody tr th {\n",
       "        vertical-align: top;\n",
       "    }\n",
       "\n",
       "    .dataframe thead th {\n",
       "        text-align: right;\n",
       "    }\n",
       "</style>\n",
       "<table border=\"1\" class=\"dataframe\">\n",
       "  <thead>\n",
       "    <tr style=\"text-align: right;\">\n",
       "      <th></th>\n",
       "      <th>variation_group</th>\n",
       "      <th>process_step</th>\n",
       "      <th>avg_time_diff_to_next_step</th>\n",
       "    </tr>\n",
       "  </thead>\n",
       "  <tbody>\n",
       "    <tr>\n",
       "      <th>0</th>\n",
       "      <td>Control</td>\n",
       "      <td>step_1</td>\n",
       "      <td>34.024979</td>\n",
       "    </tr>\n",
       "    <tr>\n",
       "      <th>1</th>\n",
       "      <td>Control</td>\n",
       "      <td>step_2</td>\n",
       "      <td>87.173273</td>\n",
       "    </tr>\n",
       "    <tr>\n",
       "      <th>2</th>\n",
       "      <td>Control</td>\n",
       "      <td>step_3</td>\n",
       "      <td>1504.859957</td>\n",
       "    </tr>\n",
       "    <tr>\n",
       "      <th>3</th>\n",
       "      <td>Test</td>\n",
       "      <td>step_1</td>\n",
       "      <td>48.221973</td>\n",
       "    </tr>\n",
       "    <tr>\n",
       "      <th>4</th>\n",
       "      <td>Test</td>\n",
       "      <td>step_2</td>\n",
       "      <td>462.490110</td>\n",
       "    </tr>\n",
       "    <tr>\n",
       "      <th>5</th>\n",
       "      <td>Test</td>\n",
       "      <td>step_3</td>\n",
       "      <td>1504.506992</td>\n",
       "    </tr>\n",
       "  </tbody>\n",
       "</table>\n",
       "</div>"
      ],
      "text/plain": [
       "  variation_group process_step  avg_time_diff_to_next_step\n",
       "0         Control       step_1                   34.024979\n",
       "1         Control       step_2                   87.173273\n",
       "2         Control       step_3                 1504.859957\n",
       "3            Test       step_1                   48.221973\n",
       "4            Test       step_2                  462.490110\n",
       "5            Test       step_3                 1504.506992"
      ]
     },
     "execution_count": 4,
     "metadata": {},
     "output_type": "execute_result"
    }
   ],
   "source": [
    "avg_time_diff_per_step"
   ]
  },
  {
   "cell_type": "code",
   "execution_count": 6,
   "id": "482e42c4-041b-4973-94ca-a4c8343aa094",
   "metadata": {},
   "outputs": [],
   "source": [
    "file_path = '/Users/oscargonzalezsanchez/Documents/ironhack/projects/datasets/avg_time_diff_per_step.csv'\n",
    "avg_time_diff_per_step.to_csv(file_path, index=False)"
   ]
  },
  {
   "cell_type": "code",
   "execution_count": null,
   "id": "72d14f47-0400-4083-8cc9-e1fb168d5db0",
   "metadata": {},
   "outputs": [],
   "source": []
  },
  {
   "cell_type": "code",
   "execution_count": null,
   "id": "593bb99c-ca5e-4bba-8b52-9fb89e2003e9",
   "metadata": {},
   "outputs": [],
   "source": []
  }
 ],
 "metadata": {
  "kernelspec": {
   "display_name": "m2_venv",
   "language": "python",
   "name": "m2_venv"
  },
  "language_info": {
   "codemirror_mode": {
    "name": "ipython",
    "version": 3
   },
   "file_extension": ".py",
   "mimetype": "text/x-python",
   "name": "python",
   "nbconvert_exporter": "python",
   "pygments_lexer": "ipython3",
   "version": "3.11.7"
  }
 },
 "nbformat": 4,
 "nbformat_minor": 5
}
