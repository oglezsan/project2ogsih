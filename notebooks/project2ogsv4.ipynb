{
 "cells": [
  {
   "cell_type": "code",
   "execution_count": 19,
   "id": "6f3e54b8-13a4-4cfe-9bda-bd0e755956d5",
   "metadata": {},
   "outputs": [],
   "source": [
    "# Loading libraries set \n",
    "import pandas as pd\n",
    "import numpy as np\n",
    "import matplotlib as plt\n",
    "import matplotlib.pyplot as plt\n",
    "import seaborn as sns\n",
    "from scipy import stats"
   ]
  },
  {
   "cell_type": "code",
   "execution_count": 20,
   "id": "da5dc2b1-495d-4310-9610-ab0ae1d19327",
   "metadata": {},
   "outputs": [],
   "source": [
    "# Loading datasets\n",
    "df_final = pd.read_csv(\"/Users/oscargonzalezsanchez/Documents/ironhack/projects/datasets/2/df_final.csv\")\n",
    "exp = pd.read_csv(\"/Users/oscargonzalezsanchez/Documents/ironhack/projects/datasets/2/exp.csv\")\n",
    "data_1 = pd.read_csv(\"/Users/oscargonzalezsanchez/Documents/ironhack/projects/datasets/2/data_1.csv\")\n",
    "data_2 = pd.read_csv(\"/Users/oscargonzalezsanchez/Documents/ironhack/projects/datasets/2/data_2.csv\")"
   ]
  },
  {
   "cell_type": "code",
   "execution_count": 21,
   "id": "9a0211ca-7ccd-4a20-adf7-09bd29560026",
   "metadata": {},
   "outputs": [
    {
     "data": {
      "text/html": [
       "<div>\n",
       "<style scoped>\n",
       "    .dataframe tbody tr th:only-of-type {\n",
       "        vertical-align: middle;\n",
       "    }\n",
       "\n",
       "    .dataframe tbody tr th {\n",
       "        vertical-align: top;\n",
       "    }\n",
       "\n",
       "    .dataframe thead th {\n",
       "        text-align: right;\n",
       "    }\n",
       "</style>\n",
       "<table border=\"1\" class=\"dataframe\">\n",
       "  <thead>\n",
       "    <tr style=\"text-align: right;\">\n",
       "      <th></th>\n",
       "      <th>variation_group</th>\n",
       "      <th>current_step</th>\n",
       "      <th>avg_time_diff_to_next_step</th>\n",
       "    </tr>\n",
       "  </thead>\n",
       "  <tbody>\n",
       "    <tr>\n",
       "      <th>0</th>\n",
       "      <td>Control</td>\n",
       "      <td>step_1</td>\n",
       "      <td>0 days 00:00:34.024978812</td>\n",
       "    </tr>\n",
       "    <tr>\n",
       "      <th>1</th>\n",
       "      <td>Control</td>\n",
       "      <td>step_2</td>\n",
       "      <td>0 days 00:01:27.173272880</td>\n",
       "    </tr>\n",
       "    <tr>\n",
       "      <th>2</th>\n",
       "      <td>Control</td>\n",
       "      <td>step_3</td>\n",
       "      <td>0 days 00:25:04.859956949</td>\n",
       "    </tr>\n",
       "    <tr>\n",
       "      <th>3</th>\n",
       "      <td>Test</td>\n",
       "      <td>step_1</td>\n",
       "      <td>0 days 00:00:48.221973094</td>\n",
       "    </tr>\n",
       "    <tr>\n",
       "      <th>4</th>\n",
       "      <td>Test</td>\n",
       "      <td>step_2</td>\n",
       "      <td>0 days 00:07:42.490110160</td>\n",
       "    </tr>\n",
       "    <tr>\n",
       "      <th>5</th>\n",
       "      <td>Test</td>\n",
       "      <td>step_3</td>\n",
       "      <td>0 days 00:25:04.506991869</td>\n",
       "    </tr>\n",
       "  </tbody>\n",
       "</table>\n",
       "</div>"
      ],
      "text/plain": [
       "  variation_group current_step avg_time_diff_to_next_step\n",
       "0         Control       step_1  0 days 00:00:34.024978812\n",
       "1         Control       step_2  0 days 00:01:27.173272880\n",
       "2         Control       step_3  0 days 00:25:04.859956949\n",
       "3            Test       step_1  0 days 00:00:48.221973094\n",
       "4            Test       step_2  0 days 00:07:42.490110160\n",
       "5            Test       step_3  0 days 00:25:04.506991869"
      ]
     },
     "execution_count": 21,
     "metadata": {},
     "output_type": "execute_result"
    }
   ],
   "source": [
    "# Rename the 'Variation' column to 'variation_group'\n",
    "exp.rename(columns={'Variation': 'variation_group'}, inplace=True)\n",
    "\n",
    "# Merge data_1 and data_2\n",
    "df_web_data = pd.concat([data_1, data_2], ignore_index=True)\n",
    "\n",
    "# Merge df_web_data with experiment data to get the group information\n",
    "df_merged = pd.merge(df_web_data, exp, on='client_id', how='left')\n",
    "\n",
    "# Convert date_time to datetime\n",
    "df_merged['date_time'] = pd.to_datetime(df_merged['date_time'])\n",
    "\n",
    "# Sort data by client_id and date_time\n",
    "df_merged.sort_values(by=['client_id', 'date_time'], inplace=True)\n",
    "\n",
    "# Calculate time differences between steps for each client\n",
    "df_merged['next_process_step'] = df_merged.groupby('client_id')['process_step'].shift(-1)\n",
    "df_merged['next_date_time'] = df_merged.groupby('client_id')['date_time'].shift(-1)\n",
    "df_merged['step_time_diff'] = df_merged['next_date_time'] - df_merged['date_time']\n",
    "\n",
    "# Filter out rows where the next_process_step is not in the sequence\n",
    "valid_steps = ['step_1', 'step_2', 'step_3', 'confirm']\n",
    "df_merged = df_merged[df_merged['process_step'].isin(valid_steps) & df_merged['next_process_step'].isin(valid_steps)]\n",
    "\n",
    "# Map the process steps to ensure the correct order\n",
    "step_order = {'start': 0, 'step_1': 1, 'step_2': 2, 'step_3': 3, 'confirm': 4}\n",
    "df_merged['process_step_order'] = df_merged['process_step'].map(step_order)\n",
    "df_merged['next_process_step_order'] = df_merged['next_process_step'].map(step_order)\n",
    "\n",
    "# Filter to ensure only consecutive steps are considered\n",
    "df_merged = df_merged[df_merged['next_process_step_order'] == df_merged['process_step_order'] + 1]\n",
    "\n",
    "# Calculate average time differences between each step for control and test groups\n",
    "avg_time_diff_per_step = df_merged.groupby(['variation_group', 'process_step'])['step_time_diff'].mean().reset_index()\n",
    "\n",
    "# Rename columns for clarity\n",
    "avg_time_diff_per_step.rename(columns={'process_step': 'current_step', 'step_time_diff': 'avg_time_diff_to_next_step'}, inplace=True)\n",
    "\n",
    "avg_time_diff_per_step"
   ]
  },
  {
   "cell_type": "code",
   "execution_count": 22,
   "id": "413039a8-228c-40f8-a2cb-4d5aaf817575",
   "metadata": {},
   "outputs": [
    {
     "name": "stdout",
     "output_type": "stream",
     "text": [
      "  variation_group  completion_rate\n",
      "0         Control         0.655873\n",
      "1            Test         0.692932\n",
      "  variation_group avg_time_to_completion\n",
      "0         Control       97 days 23:06:32\n",
      "1            Test       97 days 22:38:00\n",
      "  variation_group process_step  drop_off_count  total_clients  drop_off_rate\n",
      "0         Control        start           23397          23532       0.994263\n",
      "1         Control       step_1           20152          23532       0.856366\n",
      "2         Control       step_2           18650          23532       0.792538\n",
      "3         Control       step_3           17422          23532       0.740354\n",
      "4            Test        start           26679          26968       0.989284\n",
      "5            Test       step_1           24267          26968       0.899844\n",
      "6            Test       step_2           22258          26968       0.825349\n",
      "7            Test       step_3           20881          26968       0.774288\n"
     ]
    }
   ],
   "source": [
    "# Rename the 'Variation' column to 'variation_group'\n",
    "exp.rename(columns={'Variation': 'variation_group'}, inplace=True)\n",
    "\n",
    "# Merge data_1 and data_2\n",
    "df_web_data = pd.concat([data_1, data_2], ignore_index=True)\n",
    "\n",
    "# Merge df_web_data with experiment data to get the group information\n",
    "df_merged = pd.merge(df_web_data, exp, on='client_id', how='left')\n",
    "\n",
    "# Convert date_time to datetime\n",
    "df_merged['date_time'] = pd.to_datetime(df_merged['date_time'])\n",
    "\n",
    "# Sort data by client_id and date_time\n",
    "df_merged.sort_values(by=['client_id', 'date_time'], inplace=True)\n",
    "\n",
    "# Calculate completion rates\n",
    "completion_counts = df_merged[df_merged['process_step'] == 'confirm'].groupby('variation_group')['client_id'].nunique()\n",
    "total_counts = df_merged.groupby('variation_group')['client_id'].nunique()\n",
    "completion_rate = (completion_counts / total_counts).reset_index()\n",
    "completion_rate.columns = ['variation_group', 'completion_rate']\n",
    "\n",
    "# Calculate time to completion\n",
    "time_to_completion = df_merged[df_merged['process_step'] == 'confirm'].groupby('variation_group')['date_time'].max() - df_merged[df_merged['process_step'] == 'start'].groupby('variation_group')['date_time'].min()\n",
    "time_to_completion = time_to_completion.reset_index()\n",
    "time_to_completion.columns = ['variation_group', 'avg_time_to_completion']\n",
    "\n",
    "# Calculate drop-off rates\n",
    "drop_off_counts = df_merged[df_merged['process_step'] != 'confirm'].groupby(['variation_group', 'process_step'])['client_id'].nunique().reset_index()\n",
    "drop_off_counts.columns = ['variation_group', 'process_step', 'drop_off_count']\n",
    "\n",
    "total_client_counts = df_merged.groupby('variation_group')['client_id'].nunique().reset_index()\n",
    "total_client_counts.columns = ['variation_group', 'total_clients']\n",
    "\n",
    "drop_off_rates = pd.merge(drop_off_counts, total_client_counts, on='variation_group')\n",
    "drop_off_rates['drop_off_rate'] = drop_off_rates['drop_off_count'] / drop_off_rates['total_clients']\n",
    "\n",
    "# Display the results\n",
    "print(completion_rate)\n",
    "print(time_to_completion)\n",
    "print(drop_off_rates)"
   ]
  },
  {
   "cell_type": "code",
   "execution_count": 23,
   "id": "fd65f2fb-bb04-4d6f-9469-917a0f78016e",
   "metadata": {},
   "outputs": [
    {
     "name": "stdout",
     "output_type": "stream",
     "text": [
      "Chi-square test for Completion Rate: chi2 = 78.58798131233071, p-value = 7.651350968671841e-19\n",
      "T-test for Time to Completion: t-statistic = nan, p\n"
     ]
    }
   ],
   "source": [
    "from scipy import stats\n",
    "\n",
    "# Hypothesis Test for Completion Rate\n",
    "completion_counts = df_merged[df_merged['process_step'] == 'confirm'].groupby('variation_group')['client_id'].nunique()\n",
    "total_counts = df_merged.groupby('variation_group')['client_id'].nunique()\n",
    "completion_rate = (completion_counts / total_counts).reset_index()\n",
    "\n",
    "# Chi-square test for completion rate\n",
    "contingency_table = pd.DataFrame({\n",
    "    'Completed': completion_counts,\n",
    "    'Total': total_counts - completion_counts\n",
    "}).T\n",
    "chi2, p, _, _ = stats.chi2_contingency(contingency_table)\n",
    "\n",
    "print(f\"Chi-square test for Completion Rate: chi2 = {chi2}, p-value = {p}\")\n",
    "\n",
    "# Hypothesis Test for Time to Completion\n",
    "time_to_completion_control = df_merged[(df_merged['variation_group'] == 'Control') & (df_merged['process_step'] == 'confirm')]['date_time'] - df_merged[(df_merged['variation_group'] == 'Control') & (df_merged['process_step'] == 'start')]['date_time']\n",
    "time_to_completion_test = df_merged[(df_merged['variation_group'] == 'Test') & (df_merged['process_step'] == 'confirm')]['date_time'] - df_merged[(df_merged['variation_group'] == 'Test') & (df_merged['process_step'] == 'start')]['date_time']\n",
    "\n",
    "# T-test for time to completion\n",
    "t_stat, p_val = stats.ttest_ind(time_to_completion_control.dropna().dt.total_seconds(), time_to_completion_test.dropna().dt.total_seconds(), equal_var=False)\n",
    "\n",
    "print(f\"T-test for Time to Completion: t-statistic = {t_stat}, p\")\n",
    "\n"
   ]
  },
  {
   "cell_type": "code",
   "execution_count": 24,
   "id": "34c4f1c4-0ee5-4bf6-a434-4c7b72091c61",
   "metadata": {},
   "outputs": [
    {
     "name": "stdout",
     "output_type": "stream",
     "text": [
      "Control Group Time to Completion (seconds): count    1.531800e+04\n",
      "mean     3.914741e+05\n",
      "std      1.165834e+06\n",
      "min     -1.314772e+06\n",
      "25%      1.950000e+02\n",
      "50%      3.360000e+02\n",
      "75%      8.907500e+02\n",
      "max      8.373949e+06\n",
      "Name: date_time, dtype: float64\n",
      "Test Group Time to Completion (seconds): count    1.841200e+04\n",
      "mean     3.578802e+05\n",
      "std      1.072056e+06\n",
      "min     -2.339600e+06\n",
      "25%      1.770000e+02\n",
      "50%      3.440000e+02\n",
      "75%      2.094000e+03\n",
      "max      8.110545e+06\n",
      "Name: date_time, dtype: float64\n",
      "Chi-square test for Completion Rate: chi2 = 78.58798131233071, p-value = 7.651350968671841e-19\n",
      "T-test for Time to Completion: t-statistic = 2.7324627302998055, p-value = 0.006289784111937595\n"
     ]
    }
   ],
   "source": [
    "# Rename the 'Variation' column to 'variation_group'\n",
    "exp.rename(columns={'Variation': 'variation_group'}, inplace=True)\n",
    "\n",
    "# Merge data_1 and data_2\n",
    "df_web_data = pd.concat([data_1, data_2], ignore_index=True)\n",
    "\n",
    "# Merge df_web_data with experiment data to get the group information\n",
    "df_merged = pd.merge(df_web_data, exp, on='client_id', how='left')\n",
    "\n",
    "# Convert date_time to datetime\n",
    "df_merged['date_time'] = pd.to_datetime(df_merged['date_time'])\n",
    "\n",
    "# Sort data by client_id and date_time\n",
    "df_merged.sort_values(by=['client_id', 'date_time'], inplace=True)\n",
    "\n",
    "# Calculate completion rates\n",
    "completion_counts = df_merged[df_merged['process_step'] == 'confirm'].groupby('variation_group')['client_id'].nunique()\n",
    "total_counts = df_merged.groupby('variation_group')['client_id'].nunique()\n",
    "completion_rate = (completion_counts / total_counts).reset_index()\n",
    "completion_rate.columns = ['variation_group', 'completion_rate']\n",
    "\n",
    "# Calculate time to completion for control group\n",
    "start_times_control = df_merged[(df_merged['variation_group'] == 'Control') & (df_merged['process_step'] == 'start')].groupby('client_id')['date_time'].min()\n",
    "end_times_control = df_merged[(df_merged['variation_group'] == 'Control') & (df_merged['process_step'] == 'confirm')].groupby('client_id')['date_time'].max()\n",
    "time_to_completion_control = (end_times_control - start_times_control).dropna()\n",
    "\n",
    "# Calculate time to completion for test group\n",
    "start_times_test = df_merged[(df_merged['variation_group'] == 'Test') & (df_merged['process_step'] == 'start')].groupby('client_id')['date_time'].min()\n",
    "end_times_test = df_merged[(df_merged['variation_group'] == 'Test') & (df_merged['process_step'] == 'confirm')].groupby('client_id')['date_time'].max()\n",
    "time_to_completion_test = (end_times_test - start_times_test).dropna()\n",
    "\n",
    "# Check for valid data\n",
    "print(\"Control Group Time to Completion (seconds):\", time_to_completion_control.dt.total_seconds().describe())\n",
    "print(\"Test Group Time to Completion (seconds):\", time_to_completion_test.dt.total_seconds().describe())\n",
    "\n",
    "# Convert timedelta to total seconds for hypothesis testing\n",
    "time_to_completion_control = time_to_completion_control.dt.total_seconds()\n",
    "time_to_completion_test = time_to_completion_test.dt.total_seconds()\n",
    "\n",
    "# Hypothesis Test for Completion Rate\n",
    "contingency_table = pd.DataFrame({\n",
    "    'Completed': completion_counts,\n",
    "    'Not_Completed': total_counts - completion_counts\n",
    "}).T\n",
    "chi2, p, _, _ = stats.chi2_contingency(contingency_table)\n",
    "\n",
    "print(f\"Chi-square test for Completion Rate: chi2 = {chi2}, p-value = {p}\")\n",
    "\n",
    "# Hypothesis Test for Time to Completion\n",
    "t_stat, p_val = stats.ttest_ind(time_to_completion_control, time_to_completion_test, equal_var=False)\n",
    "\n",
    "print(f\"T-test for Time to Completion: t-statistic = {t_stat}, p-value = {p_val}\")"
   ]
  },
  {
   "cell_type": "code",
   "execution_count": 25,
   "id": "86e0be94-80ba-497e-8de2-7f4913bcbc32",
   "metadata": {},
   "outputs": [
    {
     "data": {
      "text/plain": [
       "'\\nThe Chi-square test assesses whether there is a significant difference in completion rates between the control and test groups.\\nThe p-value is extremely small, which is far below the typical significance level of 0.05. This indicates that we can reject the null hypothesis.\\nConclusion: There is a statistically significant difference in the completion rates between the control and test groups. The redesign likely had an impact on the completion rate.\\n\\nThe T-test assesses whether there is a significant difference in the average time to completion between the control and test groups.\\nThe p-value is 0.0063, which is below the typical significance level of 0.05. This indicates that we can reject the null hypothesis.\\nConclusion: There is a statistically significant difference in the time to completion between the control and test groups. The redesign likely had an impact on the time users took to complete the process.\\n'"
      ]
     },
     "execution_count": 25,
     "metadata": {},
     "output_type": "execute_result"
    }
   ],
   "source": [
    "'''\n",
    "The Chi-square test assesses whether there is a significant difference in completion rates between the control and test groups.\n",
    "The p-value is extremely small, which is far below the typical significance level of 0.05. This indicates that we can reject the null hypothesis.\n",
    "Conclusion: There is a statistically significant difference in the completion rates between the control and test groups. The redesign likely had an impact on the completion rate.\n",
    "\n",
    "The T-test assesses whether there is a significant difference in the average time to completion between the control and test groups.\n",
    "The p-value is 0.0063, which is below the typical significance level of 0.05. This indicates that we can reject the null hypothesis.\n",
    "Conclusion: There is a statistically significant difference in the time to completion between the control and test groups. The redesign likely had an impact on the time users took to complete the process.\n",
    "'''\n"
   ]
  },
  {
   "cell_type": "code",
   "execution_count": 26,
   "id": "5f0b3877-4e08-41de-8b3a-d979199d2355",
   "metadata": {},
   "outputs": [
    {
     "name": "stdout",
     "output_type": "stream",
     "text": [
      "Recalculated T-test for Time to Completion: t-statistic = 2.7501331119012327, p-value = 0.005960509839173497\n"
     ]
    }
   ],
   "source": [
    "# Filter out negative time differences\n",
    "time_to_completion_control = time_to_completion_control[time_to_completion_control >= 0]\n",
    "time_to_completion_test = time_to_completion_test[time_to_completion_test >= 0]\n",
    "\n",
    "# Recalculate the T-test for Time to Completion\n",
    "t_stat, p_val = stats.ttest_ind(time_to_completion_control, time_to_completion_test, equal_var=False)\n",
    "\n",
    "print(f\"Recalculated T-test for Time to Completion: t-statistic = {t_stat}, p-value = {p_val}\")\n"
   ]
  },
  {
   "cell_type": "code",
   "execution_count": 27,
   "id": "1297f0b2-9a7d-450b-8eea-85199d6e8a9a",
   "metadata": {},
   "outputs": [
    {
     "data": {
      "text/plain": [
       "'\\nCHI SQUARE:\\nConclusion: The redesign significantly impacted the completion rates, with the test group showing a different (likely improved) completion rate compared to the control group.\\n\\nT-TEST:\\nConclusion: The redesign significantly impacted the time to completion, with users in the test group taking a different (likely reduced) amount of time to complete the process compared to the control group.\\n'"
      ]
     },
     "execution_count": 27,
     "metadata": {},
     "output_type": "execute_result"
    }
   ],
   "source": [
    "'''\n",
    "CHI SQUARE:\n",
    "Conclusion: The redesign significantly impacted the completion rates, with the test group showing a different (likely improved) completion rate compared to the control group.\n",
    "\n",
    "T-TEST:\n",
    "Conclusion: The redesign significantly impacted the time to completion, with users in the test group taking a different (likely reduced) amount of time to complete the process compared to the control group.\n",
    "'''\n"
   ]
  },
  {
   "cell_type": "code",
   "execution_count": 28,
   "id": "0e554076-5158-4c7c-bc93-c6e6ea19072a",
   "metadata": {},
   "outputs": [
    {
     "name": "stdout",
     "output_type": "stream",
     "text": [
      "Chi-square test for Completion Rate: chi2 = 78.58798131233071, p-value = 7.651350968671841e-19\n",
      "Recalculated T-test for Time to Completion: t-statistic = 2.7501331119012327, p-value = 0.005960509839173497\n"
     ]
    }
   ],
   "source": [
    "# Rename the 'Variation' column to 'variation_group'\n",
    "exp.rename(columns={'Variation': 'variation_group'}, inplace=True)\n",
    "\n",
    "# Merge data_1 and data_2\n",
    "df_web_data = pd.concat([data_1, data_2], ignore_index=True)\n",
    "\n",
    "# Merge df_web_data with experiment data to get the group information\n",
    "df_merged = pd.merge(df_web_data, exp, on='client_id', how='left')\n",
    "\n",
    "# Convert date_time to datetime\n",
    "df_merged['date_time'] = pd.to_datetime(df_merged['date_time'])\n",
    "\n",
    "# Sort data by client_id and date_time\n",
    "df_merged.sort_values(by=['client_id', 'date_time'], inplace=True)\n",
    "\n",
    "# Calculate completion rates\n",
    "completion_counts = df_merged[df_merged['process_step'] == 'confirm'].groupby('variation_group')['client_id'].nunique()\n",
    "total_counts = df_merged.groupby('variation_group')['client_id'].nunique()\n",
    "completion_rate = (completion_counts / total_counts).reset_index()\n",
    "completion_rate.columns = ['variation_group', 'completion_rate']\n",
    "\n",
    "# Calculate time to completion for control group\n",
    "start_times_control = df_merged[(df_merged['variation_group'] == 'Control') & (df_merged['process_step'] == 'start')].groupby('client_id')['date_time'].min()\n",
    "end_times_control = df_merged[(df_merged['variation_group'] == 'Control') & (df_merged['process_step'] == 'confirm')].groupby('client_id')['date_time'].max()\n",
    "time_to_completion_control = (end_times_control - start_times_control).dropna()\n",
    "\n",
    "# Calculate time to completion for test group\n",
    "start_times_test = df_merged[(df_merged['variation_group'] == 'Test') & (df_merged['process_step'] == 'start')].groupby('client_id')['date_time'].min()\n",
    "end_times_test = df_merged[(df_merged['variation_group'] == 'Test') & (df_merged['process_step'] == 'confirm')].groupby('client_id')['date_time'].max()\n",
    "time_to_completion_test = (end_times_test - start_times_test).dropna()\n",
    "\n",
    "# Filter out negative time differences\n",
    "time_to_completion_control = time_to_completion_control[time_to_completion_control >= pd.Timedelta(0)]\n",
    "time_to_completion_test = time_to_completion_test[time_to_completion_test >= pd.Timedelta(0)]\n",
    "\n",
    "# Convert timedelta to total seconds for hypothesis testing\n",
    "time_to_completion_control = time_to_completion_control.dt.total_seconds()\n",
    "time_to_completion_test = time_to_completion_test.dt.total_seconds()\n",
    "\n",
    "# Hypothesis Test for Completion Rate\n",
    "contingency_table = pd.DataFrame({\n",
    "    'Completed': completion_counts,\n",
    "    'Not_Completed': total_counts - completion_counts\n",
    "}).T\n",
    "chi2, p, _, _ = stats.chi2_contingency(contingency_table)\n",
    "\n",
    "print(f\"Chi-square test for Completion Rate: chi2 = {chi2}, p-value = {p}\")\n",
    "\n",
    "# Hypothesis Test for Time to Completion\n",
    "t_stat, p_val = stats.ttest_ind(time_to_completion_control, time_to_completion_test, equal_var=False)\n",
    "\n",
    "print(f\"Recalculated T-test for Time to Completion: t-statistic = {t_stat}, p-value = {p_val}\")"
   ]
  },
  {
   "cell_type": "code",
   "execution_count": 29,
   "id": "0b14e4de-f9f8-4ada-a233-133875de78ee",
   "metadata": {},
   "outputs": [
    {
     "data": {
      "text/plain": [
       "'\\nThe Chi-square test indicates a significant difference in completion rates between the control and test groups (p-value < 0.05).\\n\\nThe recalculated T-test indicates a significant difference in the average time to completion between the control and test groups (p-value < 0.05).\\nConclusion: The redesign significantly impacted the time to completion, with users in the test group taking a different (likely reduced) amount of time to complete the process compared to the control group.\\n'"
      ]
     },
     "execution_count": 29,
     "metadata": {},
     "output_type": "execute_result"
    }
   ],
   "source": [
    "'''\n",
    "The Chi-square test indicates a significant difference in completion rates between the control and test groups (p-value < 0.05).\n",
    "\n",
    "The recalculated T-test indicates a significant difference in the average time to completion between the control and test groups (p-value < 0.05).\n",
    "Conclusion: The redesign significantly impacted the time to completion, with users in the test group taking a different (likely reduced) amount of time to complete the process compared to the control group.\n",
    "'''"
   ]
  },
  {
   "cell_type": "code",
   "execution_count": 30,
   "id": "ff7e5b8d-287d-410c-9404-cf331416340b",
   "metadata": {},
   "outputs": [
    {
     "data": {
      "image/png": "[encoded data removed]",
      "text/plain": [
       "<Figure size 1000x600 with 1 Axes>"
      ]
     },
     "metadata": {},
     "output_type": "display_data"
    },
    {
     "data": {
      "image/png": "[encoded data removed]",
      "text/plain": [
       "<Figure size 1000x600 with 1 Axes>"
      ]
     },
     "metadata": {},
     "output_type": "display_data"
    }
   ],
   "source": [
    "import matplotlib.pyplot as plt\n",
    "\n",
    "# Set up the plotting environment\n",
    "sns.set(style=\"whitegrid\")\n",
    "\n",
    "# Plot Completion Rate\n",
    "plt.figure(figsize=(10, 6))\n",
    "sns.barplot(x='variation_group', y='completion_rate', data=completion_rate)\n",
    "plt.title('Completion Rate by Variation Group')\n",
    "plt.xlabel('Variation Group')\n",
    "plt.ylabel('Completion Rate')\n",
    "plt.show()\n",
    "\n",
    "# Prepare data for the box plot of time to completion\n",
    "time_to_completion_data = pd.DataFrame({\n",
    "    'time_to_completion': pd.concat([time_to_completion_control, time_to_completion_test]),\n",
    "    'variation_group': ['Control'] * len(time_to_completion_control) + ['Test'] * len(time_to_completion_test)\n",
    "})\n",
    "\n",
    "# Plot Time to Completion\n",
    "plt.figure(figsize=(10, 6))\n",
    "sns.boxplot(x='variation_group', y='time_to_completion', data=time_to_completion_data)\n",
    "plt.title('Time to Completion by Variation Group')\n",
    "plt.xlabel('Variation Group')\n",
    "plt.ylabel('Time to Completion (seconds)')\n",
    "plt.yscale('log')  # Log scale to handle wide range of values\n",
    "plt.show()"
   ]
  },
  {
   "cell_type": "code",
   "execution_count": 39,
   "id": "bba0f1ce-51f2-4701-bdfd-e4e7245135ee",
   "metadata": {},
   "outputs": [],
   "source": [
    "file_path = '/Users/oscargonzalezsanchez/Documents/ironhack/projects/datasets/drop_off_rates.csv'\n",
    "drop_off_rates.to_csv(file_path, index=False)"
   ]
  },
  {
   "cell_type": "code",
   "execution_count": 41,
   "id": "1178a44e-d4f0-434a-87d9-cd2929ec2950",
   "metadata": {},
   "outputs": [],
   "source": [
    "file_path = '/Users/oscargonzalezsanchez/Documents/ironhack/projects/datasets/df_merged.csv'\n",
    "df_merged.to_csv(file_path, index=False)"
   ]
  },
  {
   "cell_type": "code",
   "execution_count": null,
   "id": "277ca091-0ee9-47c1-9714-58d0f91b13a3",
   "metadata": {},
   "outputs": [],
   "source": []
  }
 ],
 "metadata": {
  "kernelspec": {
   "display_name": "m2_venv",
   "language": "python",
   "name": "m2_venv"
  },
  "language_info": {
   "codemirror_mode": {
    "name": "ipython",
    "version": 3
   },
   "file_extension": ".py",
   "mimetype": "text/x-python",
   "name": "python",
   "nbconvert_exporter": "python",
   "pygments_lexer": "ipython3",
   "version": "3.11.7"
  }
 },
 "nbformat": 4,
 "nbformat_minor": 5
}
